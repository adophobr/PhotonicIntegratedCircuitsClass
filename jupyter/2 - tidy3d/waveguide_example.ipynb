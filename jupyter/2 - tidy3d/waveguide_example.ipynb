{
 "cells": [
  {
   "cell_type": "code",
   "execution_count": 168,
   "metadata": {},
   "outputs": [],
   "source": [
    "# standard python imports\n",
    "import numpy as np\n",
    "import matplotlib.pylab as plt\n",
    "\n",
    "# tidy3D import\n",
    "import tidy3d as td\n",
    "from tidy3d.constants import C_0\n",
    "from tidy3d.plugins.mode import ModeSolver"
   ]
  },
  {
   "cell_type": "markdown",
   "metadata": {},
   "source": [
    "### Waveguide dimensions and signal wavelenght"
   ]
  },
  {
   "cell_type": "code",
   "execution_count": 169,
   "metadata": {},
   "outputs": [],
   "source": [
    "# waveguide information\n",
    "wg_width = 0.45\n",
    "wg_height = 0.22\n",
    "si = td.material_library['cSi']['Palik_Lossless']\n",
    "sio2 = td.material_library['SiO2']['Palik_Lossless']"
   ]
  },
  {
   "cell_type": "code",
   "execution_count": 170,
   "metadata": {},
   "outputs": [],
   "source": [
    "# central frequency\n",
    "wvl_um = 1.55\n",
    "freq0 = C_0 / wvl_um\n",
    "fwidth = freq0 / 3"
   ]
  },
  {
   "cell_type": "code",
   "execution_count": 171,
   "metadata": {},
   "outputs": [],
   "source": [
    "num_freqs = 11\n",
    "f0_ind = num_freqs // 2\n",
    "wvl_ums = np.linspace(1.5,1.6,num_freqs)\n",
    "freqs = C_0 / wvl_ums"
   ]
  },
  {
   "cell_type": "markdown",
   "metadata": {},
   "source": [
    "### Using Mode Solver"
   ]
  },
  {
   "cell_type": "code",
   "execution_count": 172,
   "metadata": {},
   "outputs": [],
   "source": [
    "# size of simulation domain\n",
    "Lx, Ly, Lz = 1, 6, 1\n",
    "dl = 0.05\n",
    "\n",
    "# run_time in ps\n",
    "run_time = 1e-12\n",
    "\n",
    "# automatic grid specification\n",
    "grid_spec = td.GridSpec.auto(min_steps_per_wvl=40, wavelength=wvl_um)"
   ]
  },
  {
   "cell_type": "code",
   "execution_count": 173,
   "metadata": {},
   "outputs": [
    {
     "data": {
      "image/png": "[encoded data removed]",
      "text/plain": [
       "<Figure size 640x480 with 1 Axes>"
      ]
     },
     "metadata": {},
     "output_type": "display_data"
    }
   ],
   "source": [
    "waveguide = td.Structure(\n",
    "    geometry=td.Box(size=(wg_width, td.inf, wg_height)),\n",
    "    medium=si,\n",
    ")\n",
    "\n",
    "sim = td.Simulation(\n",
    "    size=(Lx, Ly, Lz),\n",
    "    grid_spec=grid_spec,\n",
    "    structures=[waveguide],\n",
    "    run_time=run_time,\n",
    "    boundary_spec=td.BoundarySpec.all_sides(boundary=td.Periodic()),\n",
    "    medium=sio2,\n",
    ")\n",
    "\n",
    "ax = sim.plot(y=0)\n",
    "plt.grid()\n",
    "plt.show()"
   ]
  },
  {
   "cell_type": "code",
   "execution_count": 174,
   "metadata": {},
   "outputs": [],
   "source": [
    "plane = td.Box(center=(0, 0, 0), size=(4, 0, 3.5))"
   ]
  },
  {
   "cell_type": "code",
   "execution_count": 175,
   "metadata": {},
   "outputs": [],
   "source": [
    "mode_spec = td.ModeSpec(\n",
    "    num_modes=3,\n",
    "    target_neff=2.0,\n",
    "    group_index_step=True,\n",
    ")"
   ]
  },
  {
   "cell_type": "code",
   "execution_count": 176,
   "metadata": {},
   "outputs": [
    {
     "data": {
      "text/html": [
       "<pre style=\"white-space:pre;overflow-x:auto;line-height:normal;font-family:Menlo,'DejaVu Sans Mono',consolas,'Courier New',monospace\"><span style=\"color: #7fbfbf; text-decoration-color: #7fbfbf\">11:58:43 -03 </span><span style=\"color: #800000; text-decoration-color: #800000\">WARNING: Mode field at frequency index </span><span style=\"color: #008080; text-decoration-color: #008080; font-weight: bold\">0</span><span style=\"color: #800000; text-decoration-color: #800000\">, mode index </span><span style=\"color: #008080; text-decoration-color: #008080; font-weight: bold\">2</span><span style=\"color: #800000; text-decoration-color: #800000\"> does not    </span>\n",
       "<span style=\"color: #7fbfbf; text-decoration-color: #7fbfbf\">             </span><span style=\"color: #800000; text-decoration-color: #800000\">decay at the plane boundaries.                                     </span>\n",
       "</pre>\n"
      ],
      "text/plain": [
       "\u001b[2;36m11:58:43 -03\u001b[0m\u001b[2;36m \u001b[0m\u001b[31mWARNING: Mode field at frequency index \u001b[0m\u001b[1;36m0\u001b[0m\u001b[31m, mode index \u001b[0m\u001b[1;36m2\u001b[0m\u001b[31m does not    \u001b[0m\n",
       "\u001b[2;36m             \u001b[0m\u001b[31mdecay at the plane boundaries.                                     \u001b[0m\n"
      ]
     },
     "metadata": {},
     "output_type": "display_data"
    },
    {
     "data": {
      "text/html": [
       "<pre style=\"white-space:pre;overflow-x:auto;line-height:normal;font-family:Menlo,'DejaVu Sans Mono',consolas,'Courier New',monospace\"><span style=\"color: #7fbfbf; text-decoration-color: #7fbfbf\">             </span><span style=\"color: #800000; text-decoration-color: #800000\">WARNING: Mode field at frequency index </span><span style=\"color: #008080; text-decoration-color: #008080; font-weight: bold\">1</span><span style=\"color: #800000; text-decoration-color: #800000\">, mode index </span><span style=\"color: #008080; text-decoration-color: #008080; font-weight: bold\">2</span><span style=\"color: #800000; text-decoration-color: #800000\"> does not    </span>\n",
       "<span style=\"color: #7fbfbf; text-decoration-color: #7fbfbf\">             </span><span style=\"color: #800000; text-decoration-color: #800000\">decay at the plane boundaries.                                     </span>\n",
       "</pre>\n"
      ],
      "text/plain": [
       "\u001b[2;36m            \u001b[0m\u001b[2;36m \u001b[0m\u001b[31mWARNING: Mode field at frequency index \u001b[0m\u001b[1;36m1\u001b[0m\u001b[31m, mode index \u001b[0m\u001b[1;36m2\u001b[0m\u001b[31m does not    \u001b[0m\n",
       "\u001b[2;36m             \u001b[0m\u001b[31mdecay at the plane boundaries.                                     \u001b[0m\n"
      ]
     },
     "metadata": {},
     "output_type": "display_data"
    },
    {
     "data": {
      "text/html": [
       "<pre style=\"white-space:pre;overflow-x:auto;line-height:normal;font-family:Menlo,'DejaVu Sans Mono',consolas,'Courier New',monospace\"><span style=\"color: #7fbfbf; text-decoration-color: #7fbfbf\">             </span><span style=\"color: #800000; text-decoration-color: #800000\">WARNING: Mode field at frequency index </span><span style=\"color: #008080; text-decoration-color: #008080; font-weight: bold\">2</span><span style=\"color: #800000; text-decoration-color: #800000\">, mode index </span><span style=\"color: #008080; text-decoration-color: #008080; font-weight: bold\">2</span><span style=\"color: #800000; text-decoration-color: #800000\"> does not    </span>\n",
       "<span style=\"color: #7fbfbf; text-decoration-color: #7fbfbf\">             </span><span style=\"color: #800000; text-decoration-color: #800000\">decay at the plane boundaries.                                     </span>\n",
       "</pre>\n"
      ],
      "text/plain": [
       "\u001b[2;36m            \u001b[0m\u001b[2;36m \u001b[0m\u001b[31mWARNING: Mode field at frequency index \u001b[0m\u001b[1;36m2\u001b[0m\u001b[31m, mode index \u001b[0m\u001b[1;36m2\u001b[0m\u001b[31m does not    \u001b[0m\n",
       "\u001b[2;36m             \u001b[0m\u001b[31mdecay at the plane boundaries.                                     \u001b[0m\n"
      ]
     },
     "metadata": {},
     "output_type": "display_data"
    },
    {
     "data": {
      "text/html": [
       "<pre style=\"white-space:pre;overflow-x:auto;line-height:normal;font-family:Menlo,'DejaVu Sans Mono',consolas,'Courier New',monospace\"><span style=\"color: #7fbfbf; text-decoration-color: #7fbfbf\">             </span><span style=\"color: #800000; text-decoration-color: #800000\">WARNING: Mode field at frequency index </span><span style=\"color: #008080; text-decoration-color: #008080; font-weight: bold\">3</span><span style=\"color: #800000; text-decoration-color: #800000\">, mode index </span><span style=\"color: #008080; text-decoration-color: #008080; font-weight: bold\">2</span><span style=\"color: #800000; text-decoration-color: #800000\"> does not    </span>\n",
       "<span style=\"color: #7fbfbf; text-decoration-color: #7fbfbf\">             </span><span style=\"color: #800000; text-decoration-color: #800000\">decay at the plane boundaries.                                     </span>\n",
       "</pre>\n"
      ],
      "text/plain": [
       "\u001b[2;36m            \u001b[0m\u001b[2;36m \u001b[0m\u001b[31mWARNING: Mode field at frequency index \u001b[0m\u001b[1;36m3\u001b[0m\u001b[31m, mode index \u001b[0m\u001b[1;36m2\u001b[0m\u001b[31m does not    \u001b[0m\n",
       "\u001b[2;36m             \u001b[0m\u001b[31mdecay at the plane boundaries.                                     \u001b[0m\n"
      ]
     },
     "metadata": {},
     "output_type": "display_data"
    },
    {
     "data": {
      "text/html": [
       "<pre style=\"white-space:pre;overflow-x:auto;line-height:normal;font-family:Menlo,'DejaVu Sans Mono',consolas,'Courier New',monospace\"><span style=\"color: #7fbfbf; text-decoration-color: #7fbfbf\">             </span><span style=\"color: #800000; text-decoration-color: #800000\">WARNING: Mode field at frequency index </span><span style=\"color: #008080; text-decoration-color: #008080; font-weight: bold\">4</span><span style=\"color: #800000; text-decoration-color: #800000\">, mode index </span><span style=\"color: #008080; text-decoration-color: #008080; font-weight: bold\">2</span><span style=\"color: #800000; text-decoration-color: #800000\"> does not    </span>\n",
       "<span style=\"color: #7fbfbf; text-decoration-color: #7fbfbf\">             </span><span style=\"color: #800000; text-decoration-color: #800000\">decay at the plane boundaries.                                     </span>\n",
       "</pre>\n"
      ],
      "text/plain": [
       "\u001b[2;36m            \u001b[0m\u001b[2;36m \u001b[0m\u001b[31mWARNING: Mode field at frequency index \u001b[0m\u001b[1;36m4\u001b[0m\u001b[31m, mode index \u001b[0m\u001b[1;36m2\u001b[0m\u001b[31m does not    \u001b[0m\n",
       "\u001b[2;36m             \u001b[0m\u001b[31mdecay at the plane boundaries.                                     \u001b[0m\n"
      ]
     },
     "metadata": {},
     "output_type": "display_data"
    },
    {
     "data": {
      "text/html": [
       "<pre style=\"white-space:pre;overflow-x:auto;line-height:normal;font-family:Menlo,'DejaVu Sans Mono',consolas,'Courier New',monospace\"><span style=\"color: #7fbfbf; text-decoration-color: #7fbfbf\">             </span><span style=\"color: #800000; text-decoration-color: #800000\">WARNING: Mode field at frequency index </span><span style=\"color: #008080; text-decoration-color: #008080; font-weight: bold\">5</span><span style=\"color: #800000; text-decoration-color: #800000\">, mode index </span><span style=\"color: #008080; text-decoration-color: #008080; font-weight: bold\">2</span><span style=\"color: #800000; text-decoration-color: #800000\"> does not    </span>\n",
       "<span style=\"color: #7fbfbf; text-decoration-color: #7fbfbf\">             </span><span style=\"color: #800000; text-decoration-color: #800000\">decay at the plane boundaries.                                     </span>\n",
       "</pre>\n"
      ],
      "text/plain": [
       "\u001b[2;36m            \u001b[0m\u001b[2;36m \u001b[0m\u001b[31mWARNING: Mode field at frequency index \u001b[0m\u001b[1;36m5\u001b[0m\u001b[31m, mode index \u001b[0m\u001b[1;36m2\u001b[0m\u001b[31m does not    \u001b[0m\n",
       "\u001b[2;36m             \u001b[0m\u001b[31mdecay at the plane boundaries.                                     \u001b[0m\n"
      ]
     },
     "metadata": {},
     "output_type": "display_data"
    },
    {
     "data": {
      "text/html": [
       "<pre style=\"white-space:pre;overflow-x:auto;line-height:normal;font-family:Menlo,'DejaVu Sans Mono',consolas,'Courier New',monospace\"><span style=\"color: #7fbfbf; text-decoration-color: #7fbfbf\">             </span><span style=\"color: #800000; text-decoration-color: #800000\">WARNING: Mode field at frequency index </span><span style=\"color: #008080; text-decoration-color: #008080; font-weight: bold\">6</span><span style=\"color: #800000; text-decoration-color: #800000\">, mode index </span><span style=\"color: #008080; text-decoration-color: #008080; font-weight: bold\">2</span><span style=\"color: #800000; text-decoration-color: #800000\"> does not    </span>\n",
       "<span style=\"color: #7fbfbf; text-decoration-color: #7fbfbf\">             </span><span style=\"color: #800000; text-decoration-color: #800000\">decay at the plane boundaries.                                     </span>\n",
       "</pre>\n"
      ],
      "text/plain": [
       "\u001b[2;36m            \u001b[0m\u001b[2;36m \u001b[0m\u001b[31mWARNING: Mode field at frequency index \u001b[0m\u001b[1;36m6\u001b[0m\u001b[31m, mode index \u001b[0m\u001b[1;36m2\u001b[0m\u001b[31m does not    \u001b[0m\n",
       "\u001b[2;36m             \u001b[0m\u001b[31mdecay at the plane boundaries.                                     \u001b[0m\n"
      ]
     },
     "metadata": {},
     "output_type": "display_data"
    },
    {
     "data": {
      "text/html": [
       "<pre style=\"white-space:pre;overflow-x:auto;line-height:normal;font-family:Menlo,'DejaVu Sans Mono',consolas,'Courier New',monospace\"><span style=\"color: #7fbfbf; text-decoration-color: #7fbfbf\">             </span><span style=\"color: #800000; text-decoration-color: #800000\">WARNING: Mode field at frequency index </span><span style=\"color: #008080; text-decoration-color: #008080; font-weight: bold\">7</span><span style=\"color: #800000; text-decoration-color: #800000\">, mode index </span><span style=\"color: #008080; text-decoration-color: #008080; font-weight: bold\">2</span><span style=\"color: #800000; text-decoration-color: #800000\"> does not    </span>\n",
       "<span style=\"color: #7fbfbf; text-decoration-color: #7fbfbf\">             </span><span style=\"color: #800000; text-decoration-color: #800000\">decay at the plane boundaries.                                     </span>\n",
       "</pre>\n"
      ],
      "text/plain": [
       "\u001b[2;36m            \u001b[0m\u001b[2;36m \u001b[0m\u001b[31mWARNING: Mode field at frequency index \u001b[0m\u001b[1;36m7\u001b[0m\u001b[31m, mode index \u001b[0m\u001b[1;36m2\u001b[0m\u001b[31m does not    \u001b[0m\n",
       "\u001b[2;36m             \u001b[0m\u001b[31mdecay at the plane boundaries.                                     \u001b[0m\n"
      ]
     },
     "metadata": {},
     "output_type": "display_data"
    },
    {
     "data": {
      "text/html": [
       "<pre style=\"white-space:pre;overflow-x:auto;line-height:normal;font-family:Menlo,'DejaVu Sans Mono',consolas,'Courier New',monospace\"><span style=\"color: #7fbfbf; text-decoration-color: #7fbfbf\">             </span><span style=\"color: #800000; text-decoration-color: #800000\">WARNING: Mode field at frequency index </span><span style=\"color: #008080; text-decoration-color: #008080; font-weight: bold\">8</span><span style=\"color: #800000; text-decoration-color: #800000\">, mode index </span><span style=\"color: #008080; text-decoration-color: #008080; font-weight: bold\">2</span><span style=\"color: #800000; text-decoration-color: #800000\"> does not    </span>\n",
       "<span style=\"color: #7fbfbf; text-decoration-color: #7fbfbf\">             </span><span style=\"color: #800000; text-decoration-color: #800000\">decay at the plane boundaries.                                     </span>\n",
       "</pre>\n"
      ],
      "text/plain": [
       "\u001b[2;36m            \u001b[0m\u001b[2;36m \u001b[0m\u001b[31mWARNING: Mode field at frequency index \u001b[0m\u001b[1;36m8\u001b[0m\u001b[31m, mode index \u001b[0m\u001b[1;36m2\u001b[0m\u001b[31m does not    \u001b[0m\n",
       "\u001b[2;36m             \u001b[0m\u001b[31mdecay at the plane boundaries.                                     \u001b[0m\n"
      ]
     },
     "metadata": {},
     "output_type": "display_data"
    },
    {
     "data": {
      "text/html": [
       "<pre style=\"white-space:pre;overflow-x:auto;line-height:normal;font-family:Menlo,'DejaVu Sans Mono',consolas,'Courier New',monospace\"><span style=\"color: #7fbfbf; text-decoration-color: #7fbfbf\">             </span><span style=\"color: #800000; text-decoration-color: #800000\">WARNING: Mode field at frequency index </span><span style=\"color: #008080; text-decoration-color: #008080; font-weight: bold\">9</span><span style=\"color: #800000; text-decoration-color: #800000\">, mode index </span><span style=\"color: #008080; text-decoration-color: #008080; font-weight: bold\">2</span><span style=\"color: #800000; text-decoration-color: #800000\"> does not    </span>\n",
       "<span style=\"color: #7fbfbf; text-decoration-color: #7fbfbf\">             </span><span style=\"color: #800000; text-decoration-color: #800000\">decay at the plane boundaries.                                     </span>\n",
       "</pre>\n"
      ],
      "text/plain": [
       "\u001b[2;36m            \u001b[0m\u001b[2;36m \u001b[0m\u001b[31mWARNING: Mode field at frequency index \u001b[0m\u001b[1;36m9\u001b[0m\u001b[31m, mode index \u001b[0m\u001b[1;36m2\u001b[0m\u001b[31m does not    \u001b[0m\n",
       "\u001b[2;36m             \u001b[0m\u001b[31mdecay at the plane boundaries.                                     \u001b[0m\n"
      ]
     },
     "metadata": {},
     "output_type": "display_data"
    },
    {
     "data": {
      "text/html": [
       "<pre style=\"white-space:pre;overflow-x:auto;line-height:normal;font-family:Menlo,'DejaVu Sans Mono',consolas,'Courier New',monospace\"><span style=\"color: #7fbfbf; text-decoration-color: #7fbfbf\">             </span><span style=\"color: #800000; text-decoration-color: #800000\">WARNING: Mode field at frequency index </span><span style=\"color: #008080; text-decoration-color: #008080; font-weight: bold\">10</span><span style=\"color: #800000; text-decoration-color: #800000\">, mode index </span><span style=\"color: #008080; text-decoration-color: #008080; font-weight: bold\">2</span><span style=\"color: #800000; text-decoration-color: #800000\"> does not   </span>\n",
       "<span style=\"color: #7fbfbf; text-decoration-color: #7fbfbf\">             </span><span style=\"color: #800000; text-decoration-color: #800000\">decay at the plane boundaries.                                     </span>\n",
       "</pre>\n"
      ],
      "text/plain": [
       "\u001b[2;36m            \u001b[0m\u001b[2;36m \u001b[0m\u001b[31mWARNING: Mode field at frequency index \u001b[0m\u001b[1;36m10\u001b[0m\u001b[31m, mode index \u001b[0m\u001b[1;36m2\u001b[0m\u001b[31m does not   \u001b[0m\n",
       "\u001b[2;36m             \u001b[0m\u001b[31mdecay at the plane boundaries.                                     \u001b[0m\n"
      ]
     },
     "metadata": {},
     "output_type": "display_data"
    },
    {
     "data": {
      "text/html": [
       "<pre style=\"white-space:pre;overflow-x:auto;line-height:normal;font-family:Menlo,'DejaVu Sans Mono',consolas,'Courier New',monospace\"><span style=\"color: #7fbfbf; text-decoration-color: #7fbfbf\">             </span><span style=\"color: #800000; text-decoration-color: #800000\">WARNING: Mode field at frequency index </span><span style=\"color: #008080; text-decoration-color: #008080; font-weight: bold\">11</span><span style=\"color: #800000; text-decoration-color: #800000\">, mode index </span><span style=\"color: #008080; text-decoration-color: #008080; font-weight: bold\">2</span><span style=\"color: #800000; text-decoration-color: #800000\"> does not   </span>\n",
       "<span style=\"color: #7fbfbf; text-decoration-color: #7fbfbf\">             </span><span style=\"color: #800000; text-decoration-color: #800000\">decay at the plane boundaries.                                     </span>\n",
       "</pre>\n"
      ],
      "text/plain": [
       "\u001b[2;36m            \u001b[0m\u001b[2;36m \u001b[0m\u001b[31mWARNING: Mode field at frequency index \u001b[0m\u001b[1;36m11\u001b[0m\u001b[31m, mode index \u001b[0m\u001b[1;36m2\u001b[0m\u001b[31m does not   \u001b[0m\n",
       "\u001b[2;36m             \u001b[0m\u001b[31mdecay at the plane boundaries.                                     \u001b[0m\n"
      ]
     },
     "metadata": {},
     "output_type": "display_data"
    },
    {
     "data": {
      "text/html": [
       "<pre style=\"white-space:pre;overflow-x:auto;line-height:normal;font-family:Menlo,'DejaVu Sans Mono',consolas,'Courier New',monospace\"><span style=\"color: #7fbfbf; text-decoration-color: #7fbfbf\">             </span><span style=\"color: #800000; text-decoration-color: #800000\">WARNING: Mode field at frequency index </span><span style=\"color: #008080; text-decoration-color: #008080; font-weight: bold\">12</span><span style=\"color: #800000; text-decoration-color: #800000\">, mode index </span><span style=\"color: #008080; text-decoration-color: #008080; font-weight: bold\">2</span><span style=\"color: #800000; text-decoration-color: #800000\"> does not   </span>\n",
       "<span style=\"color: #7fbfbf; text-decoration-color: #7fbfbf\">             </span><span style=\"color: #800000; text-decoration-color: #800000\">decay at the plane boundaries.                                     </span>\n",
       "</pre>\n"
      ],
      "text/plain": [
       "\u001b[2;36m            \u001b[0m\u001b[2;36m \u001b[0m\u001b[31mWARNING: Mode field at frequency index \u001b[0m\u001b[1;36m12\u001b[0m\u001b[31m, mode index \u001b[0m\u001b[1;36m2\u001b[0m\u001b[31m does not   \u001b[0m\n",
       "\u001b[2;36m             \u001b[0m\u001b[31mdecay at the plane boundaries.                                     \u001b[0m\n"
      ]
     },
     "metadata": {},
     "output_type": "display_data"
    },
    {
     "data": {
      "text/html": [
       "<pre style=\"white-space:pre;overflow-x:auto;line-height:normal;font-family:Menlo,'DejaVu Sans Mono',consolas,'Courier New',monospace\"><span style=\"color: #7fbfbf; text-decoration-color: #7fbfbf\">             </span><span style=\"color: #800000; text-decoration-color: #800000\">WARNING: Mode field at frequency index </span><span style=\"color: #008080; text-decoration-color: #008080; font-weight: bold\">13</span><span style=\"color: #800000; text-decoration-color: #800000\">, mode index </span><span style=\"color: #008080; text-decoration-color: #008080; font-weight: bold\">2</span><span style=\"color: #800000; text-decoration-color: #800000\"> does not   </span>\n",
       "<span style=\"color: #7fbfbf; text-decoration-color: #7fbfbf\">             </span><span style=\"color: #800000; text-decoration-color: #800000\">decay at the plane boundaries.                                     </span>\n",
       "</pre>\n"
      ],
      "text/plain": [
       "\u001b[2;36m            \u001b[0m\u001b[2;36m \u001b[0m\u001b[31mWARNING: Mode field at frequency index \u001b[0m\u001b[1;36m13\u001b[0m\u001b[31m, mode index \u001b[0m\u001b[1;36m2\u001b[0m\u001b[31m does not   \u001b[0m\n",
       "\u001b[2;36m             \u001b[0m\u001b[31mdecay at the plane boundaries.                                     \u001b[0m\n"
      ]
     },
     "metadata": {},
     "output_type": "display_data"
    },
    {
     "data": {
      "text/html": [
       "<pre style=\"white-space:pre;overflow-x:auto;line-height:normal;font-family:Menlo,'DejaVu Sans Mono',consolas,'Courier New',monospace\"><span style=\"color: #7fbfbf; text-decoration-color: #7fbfbf\">             </span><span style=\"color: #800000; text-decoration-color: #800000\">WARNING: Mode field at frequency index </span><span style=\"color: #008080; text-decoration-color: #008080; font-weight: bold\">14</span><span style=\"color: #800000; text-decoration-color: #800000\">, mode index </span><span style=\"color: #008080; text-decoration-color: #008080; font-weight: bold\">2</span><span style=\"color: #800000; text-decoration-color: #800000\"> does not   </span>\n",
       "<span style=\"color: #7fbfbf; text-decoration-color: #7fbfbf\">             </span><span style=\"color: #800000; text-decoration-color: #800000\">decay at the plane boundaries.                                     </span>\n",
       "</pre>\n"
      ],
      "text/plain": [
       "\u001b[2;36m            \u001b[0m\u001b[2;36m \u001b[0m\u001b[31mWARNING: Mode field at frequency index \u001b[0m\u001b[1;36m14\u001b[0m\u001b[31m, mode index \u001b[0m\u001b[1;36m2\u001b[0m\u001b[31m does not   \u001b[0m\n",
       "\u001b[2;36m             \u001b[0m\u001b[31mdecay at the plane boundaries.                                     \u001b[0m\n"
      ]
     },
     "metadata": {},
     "output_type": "display_data"
    },
    {
     "data": {
      "text/html": [
       "<pre style=\"white-space:pre;overflow-x:auto;line-height:normal;font-family:Menlo,'DejaVu Sans Mono',consolas,'Courier New',monospace\"><span style=\"color: #7fbfbf; text-decoration-color: #7fbfbf\">11:58:44 -03 </span><span style=\"color: #800000; text-decoration-color: #800000\">WARNING: Mode field at frequency index </span><span style=\"color: #008080; text-decoration-color: #008080; font-weight: bold\">15</span><span style=\"color: #800000; text-decoration-color: #800000\">, mode index </span><span style=\"color: #008080; text-decoration-color: #008080; font-weight: bold\">2</span><span style=\"color: #800000; text-decoration-color: #800000\"> does not   </span>\n",
       "<span style=\"color: #7fbfbf; text-decoration-color: #7fbfbf\">             </span><span style=\"color: #800000; text-decoration-color: #800000\">decay at the plane boundaries.                                     </span>\n",
       "</pre>\n"
      ],
      "text/plain": [
       "\u001b[2;36m11:58:44 -03\u001b[0m\u001b[2;36m \u001b[0m\u001b[31mWARNING: Mode field at frequency index \u001b[0m\u001b[1;36m15\u001b[0m\u001b[31m, mode index \u001b[0m\u001b[1;36m2\u001b[0m\u001b[31m does not   \u001b[0m\n",
       "\u001b[2;36m             \u001b[0m\u001b[31mdecay at the plane boundaries.                                     \u001b[0m\n"
      ]
     },
     "metadata": {},
     "output_type": "display_data"
    },
    {
     "data": {
      "text/html": [
       "<pre style=\"white-space:pre;overflow-x:auto;line-height:normal;font-family:Menlo,'DejaVu Sans Mono',consolas,'Courier New',monospace\"><span style=\"color: #7fbfbf; text-decoration-color: #7fbfbf\">             </span><span style=\"color: #800000; text-decoration-color: #800000\">WARNING: Mode field at frequency index </span><span style=\"color: #008080; text-decoration-color: #008080; font-weight: bold\">16</span><span style=\"color: #800000; text-decoration-color: #800000\">, mode index </span><span style=\"color: #008080; text-decoration-color: #008080; font-weight: bold\">2</span><span style=\"color: #800000; text-decoration-color: #800000\"> does not   </span>\n",
       "<span style=\"color: #7fbfbf; text-decoration-color: #7fbfbf\">             </span><span style=\"color: #800000; text-decoration-color: #800000\">decay at the plane boundaries.                                     </span>\n",
       "</pre>\n"
      ],
      "text/plain": [
       "\u001b[2;36m            \u001b[0m\u001b[2;36m \u001b[0m\u001b[31mWARNING: Mode field at frequency index \u001b[0m\u001b[1;36m16\u001b[0m\u001b[31m, mode index \u001b[0m\u001b[1;36m2\u001b[0m\u001b[31m does not   \u001b[0m\n",
       "\u001b[2;36m             \u001b[0m\u001b[31mdecay at the plane boundaries.                                     \u001b[0m\n"
      ]
     },
     "metadata": {},
     "output_type": "display_data"
    },
    {
     "data": {
      "text/html": [
       "<pre style=\"white-space:pre;overflow-x:auto;line-height:normal;font-family:Menlo,'DejaVu Sans Mono',consolas,'Courier New',monospace\"><span style=\"color: #7fbfbf; text-decoration-color: #7fbfbf\">             </span><span style=\"color: #800000; text-decoration-color: #800000\">WARNING: Mode field at frequency index </span><span style=\"color: #008080; text-decoration-color: #008080; font-weight: bold\">17</span><span style=\"color: #800000; text-decoration-color: #800000\">, mode index </span><span style=\"color: #008080; text-decoration-color: #008080; font-weight: bold\">2</span><span style=\"color: #800000; text-decoration-color: #800000\"> does not   </span>\n",
       "<span style=\"color: #7fbfbf; text-decoration-color: #7fbfbf\">             </span><span style=\"color: #800000; text-decoration-color: #800000\">decay at the plane boundaries.                                     </span>\n",
       "</pre>\n"
      ],
      "text/plain": [
       "\u001b[2;36m            \u001b[0m\u001b[2;36m \u001b[0m\u001b[31mWARNING: Mode field at frequency index \u001b[0m\u001b[1;36m17\u001b[0m\u001b[31m, mode index \u001b[0m\u001b[1;36m2\u001b[0m\u001b[31m does not   \u001b[0m\n",
       "\u001b[2;36m             \u001b[0m\u001b[31mdecay at the plane boundaries.                                     \u001b[0m\n"
      ]
     },
     "metadata": {},
     "output_type": "display_data"
    },
    {
     "data": {
      "text/html": [
       "<pre style=\"white-space:pre;overflow-x:auto;line-height:normal;font-family:Menlo,'DejaVu Sans Mono',consolas,'Courier New',monospace\"><span style=\"color: #7fbfbf; text-decoration-color: #7fbfbf\">             </span><span style=\"color: #800000; text-decoration-color: #800000\">WARNING: Mode field at frequency index </span><span style=\"color: #008080; text-decoration-color: #008080; font-weight: bold\">18</span><span style=\"color: #800000; text-decoration-color: #800000\">, mode index </span><span style=\"color: #008080; text-decoration-color: #008080; font-weight: bold\">2</span><span style=\"color: #800000; text-decoration-color: #800000\"> does not   </span>\n",
       "<span style=\"color: #7fbfbf; text-decoration-color: #7fbfbf\">             </span><span style=\"color: #800000; text-decoration-color: #800000\">decay at the plane boundaries.                                     </span>\n",
       "</pre>\n"
      ],
      "text/plain": [
       "\u001b[2;36m            \u001b[0m\u001b[2;36m \u001b[0m\u001b[31mWARNING: Mode field at frequency index \u001b[0m\u001b[1;36m18\u001b[0m\u001b[31m, mode index \u001b[0m\u001b[1;36m2\u001b[0m\u001b[31m does not   \u001b[0m\n",
       "\u001b[2;36m             \u001b[0m\u001b[31mdecay at the plane boundaries.                                     \u001b[0m\n"
      ]
     },
     "metadata": {},
     "output_type": "display_data"
    },
    {
     "data": {
      "text/html": [
       "<pre style=\"white-space:pre;overflow-x:auto;line-height:normal;font-family:Menlo,'DejaVu Sans Mono',consolas,'Courier New',monospace\"><span style=\"color: #7fbfbf; text-decoration-color: #7fbfbf\">             </span><span style=\"color: #800000; text-decoration-color: #800000\">WARNING: Mode field at frequency index </span><span style=\"color: #008080; text-decoration-color: #008080; font-weight: bold\">19</span><span style=\"color: #800000; text-decoration-color: #800000\">, mode index </span><span style=\"color: #008080; text-decoration-color: #008080; font-weight: bold\">2</span><span style=\"color: #800000; text-decoration-color: #800000\"> does not   </span>\n",
       "<span style=\"color: #7fbfbf; text-decoration-color: #7fbfbf\">             </span><span style=\"color: #800000; text-decoration-color: #800000\">decay at the plane boundaries.                                     </span>\n",
       "</pre>\n"
      ],
      "text/plain": [
       "\u001b[2;36m            \u001b[0m\u001b[2;36m \u001b[0m\u001b[31mWARNING: Mode field at frequency index \u001b[0m\u001b[1;36m19\u001b[0m\u001b[31m, mode index \u001b[0m\u001b[1;36m2\u001b[0m\u001b[31m does not   \u001b[0m\n",
       "\u001b[2;36m             \u001b[0m\u001b[31mdecay at the plane boundaries.                                     \u001b[0m\n"
      ]
     },
     "metadata": {},
     "output_type": "display_data"
    },
    {
     "data": {
      "text/html": [
       "<pre style=\"white-space:pre;overflow-x:auto;line-height:normal;font-family:Menlo,'DejaVu Sans Mono',consolas,'Courier New',monospace\"><span style=\"color: #7fbfbf; text-decoration-color: #7fbfbf\">             </span><span style=\"color: #800000; text-decoration-color: #800000\">WARNING: Mode field at frequency index </span><span style=\"color: #008080; text-decoration-color: #008080; font-weight: bold\">20</span><span style=\"color: #800000; text-decoration-color: #800000\">, mode index </span><span style=\"color: #008080; text-decoration-color: #008080; font-weight: bold\">2</span><span style=\"color: #800000; text-decoration-color: #800000\"> does not   </span>\n",
       "<span style=\"color: #7fbfbf; text-decoration-color: #7fbfbf\">             </span><span style=\"color: #800000; text-decoration-color: #800000\">decay at the plane boundaries.                                     </span>\n",
       "</pre>\n"
      ],
      "text/plain": [
       "\u001b[2;36m            \u001b[0m\u001b[2;36m \u001b[0m\u001b[31mWARNING: Mode field at frequency index \u001b[0m\u001b[1;36m20\u001b[0m\u001b[31m, mode index \u001b[0m\u001b[1;36m2\u001b[0m\u001b[31m does not   \u001b[0m\n",
       "\u001b[2;36m             \u001b[0m\u001b[31mdecay at the plane boundaries.                                     \u001b[0m\n"
      ]
     },
     "metadata": {},
     "output_type": "display_data"
    },
    {
     "data": {
      "text/html": [
       "<pre style=\"white-space:pre;overflow-x:auto;line-height:normal;font-family:Menlo,'DejaVu Sans Mono',consolas,'Courier New',monospace\"><span style=\"color: #7fbfbf; text-decoration-color: #7fbfbf\">             </span><span style=\"color: #800000; text-decoration-color: #800000\">WARNING: Mode field at frequency index </span><span style=\"color: #008080; text-decoration-color: #008080; font-weight: bold\">21</span><span style=\"color: #800000; text-decoration-color: #800000\">, mode index </span><span style=\"color: #008080; text-decoration-color: #008080; font-weight: bold\">2</span><span style=\"color: #800000; text-decoration-color: #800000\"> does not   </span>\n",
       "<span style=\"color: #7fbfbf; text-decoration-color: #7fbfbf\">             </span><span style=\"color: #800000; text-decoration-color: #800000\">decay at the plane boundaries.                                     </span>\n",
       "</pre>\n"
      ],
      "text/plain": [
       "\u001b[2;36m            \u001b[0m\u001b[2;36m \u001b[0m\u001b[31mWARNING: Mode field at frequency index \u001b[0m\u001b[1;36m21\u001b[0m\u001b[31m, mode index \u001b[0m\u001b[1;36m2\u001b[0m\u001b[31m does not   \u001b[0m\n",
       "\u001b[2;36m             \u001b[0m\u001b[31mdecay at the plane boundaries.                                     \u001b[0m\n"
      ]
     },
     "metadata": {},
     "output_type": "display_data"
    },
    {
     "data": {
      "text/html": [
       "<pre style=\"white-space:pre;overflow-x:auto;line-height:normal;font-family:Menlo,'DejaVu Sans Mono',consolas,'Courier New',monospace\"><span style=\"color: #7fbfbf; text-decoration-color: #7fbfbf\">             </span><span style=\"color: #800000; text-decoration-color: #800000\">WARNING: Mode field at frequency index </span><span style=\"color: #008080; text-decoration-color: #008080; font-weight: bold\">22</span><span style=\"color: #800000; text-decoration-color: #800000\">, mode index </span><span style=\"color: #008080; text-decoration-color: #008080; font-weight: bold\">2</span><span style=\"color: #800000; text-decoration-color: #800000\"> does not   </span>\n",
       "<span style=\"color: #7fbfbf; text-decoration-color: #7fbfbf\">             </span><span style=\"color: #800000; text-decoration-color: #800000\">decay at the plane boundaries.                                     </span>\n",
       "</pre>\n"
      ],
      "text/plain": [
       "\u001b[2;36m            \u001b[0m\u001b[2;36m \u001b[0m\u001b[31mWARNING: Mode field at frequency index \u001b[0m\u001b[1;36m22\u001b[0m\u001b[31m, mode index \u001b[0m\u001b[1;36m2\u001b[0m\u001b[31m does not   \u001b[0m\n",
       "\u001b[2;36m             \u001b[0m\u001b[31mdecay at the plane boundaries.                                     \u001b[0m\n"
      ]
     },
     "metadata": {},
     "output_type": "display_data"
    },
    {
     "data": {
      "text/html": [
       "<pre style=\"white-space:pre;overflow-x:auto;line-height:normal;font-family:Menlo,'DejaVu Sans Mono',consolas,'Courier New',monospace\"><span style=\"color: #7fbfbf; text-decoration-color: #7fbfbf\">             </span><span style=\"color: #800000; text-decoration-color: #800000\">WARNING: Mode field at frequency index </span><span style=\"color: #008080; text-decoration-color: #008080; font-weight: bold\">23</span><span style=\"color: #800000; text-decoration-color: #800000\">, mode index </span><span style=\"color: #008080; text-decoration-color: #008080; font-weight: bold\">2</span><span style=\"color: #800000; text-decoration-color: #800000\"> does not   </span>\n",
       "<span style=\"color: #7fbfbf; text-decoration-color: #7fbfbf\">             </span><span style=\"color: #800000; text-decoration-color: #800000\">decay at the plane boundaries.                                     </span>\n",
       "</pre>\n"
      ],
      "text/plain": [
       "\u001b[2;36m            \u001b[0m\u001b[2;36m \u001b[0m\u001b[31mWARNING: Mode field at frequency index \u001b[0m\u001b[1;36m23\u001b[0m\u001b[31m, mode index \u001b[0m\u001b[1;36m2\u001b[0m\u001b[31m does not   \u001b[0m\n",
       "\u001b[2;36m             \u001b[0m\u001b[31mdecay at the plane boundaries.                                     \u001b[0m\n"
      ]
     },
     "metadata": {},
     "output_type": "display_data"
    },
    {
     "data": {
      "text/html": [
       "<pre style=\"white-space:pre;overflow-x:auto;line-height:normal;font-family:Menlo,'DejaVu Sans Mono',consolas,'Courier New',monospace\"><span style=\"color: #7fbfbf; text-decoration-color: #7fbfbf\">             </span><span style=\"color: #800000; text-decoration-color: #800000\">WARNING: Mode field at frequency index </span><span style=\"color: #008080; text-decoration-color: #008080; font-weight: bold\">24</span><span style=\"color: #800000; text-decoration-color: #800000\">, mode index </span><span style=\"color: #008080; text-decoration-color: #008080; font-weight: bold\">2</span><span style=\"color: #800000; text-decoration-color: #800000\"> does not   </span>\n",
       "<span style=\"color: #7fbfbf; text-decoration-color: #7fbfbf\">             </span><span style=\"color: #800000; text-decoration-color: #800000\">decay at the plane boundaries.                                     </span>\n",
       "</pre>\n"
      ],
      "text/plain": [
       "\u001b[2;36m            \u001b[0m\u001b[2;36m \u001b[0m\u001b[31mWARNING: Mode field at frequency index \u001b[0m\u001b[1;36m24\u001b[0m\u001b[31m, mode index \u001b[0m\u001b[1;36m2\u001b[0m\u001b[31m does not   \u001b[0m\n",
       "\u001b[2;36m             \u001b[0m\u001b[31mdecay at the plane boundaries.                                     \u001b[0m\n"
      ]
     },
     "metadata": {},
     "output_type": "display_data"
    },
    {
     "data": {
      "text/html": [
       "<pre style=\"white-space:pre;overflow-x:auto;line-height:normal;font-family:Menlo,'DejaVu Sans Mono',consolas,'Courier New',monospace\"><span style=\"color: #7fbfbf; text-decoration-color: #7fbfbf\">             </span><span style=\"color: #800000; text-decoration-color: #800000\">WARNING: Mode field at frequency index </span><span style=\"color: #008080; text-decoration-color: #008080; font-weight: bold\">25</span><span style=\"color: #800000; text-decoration-color: #800000\">, mode index </span><span style=\"color: #008080; text-decoration-color: #008080; font-weight: bold\">2</span><span style=\"color: #800000; text-decoration-color: #800000\"> does not   </span>\n",
       "<span style=\"color: #7fbfbf; text-decoration-color: #7fbfbf\">             </span><span style=\"color: #800000; text-decoration-color: #800000\">decay at the plane boundaries.                                     </span>\n",
       "</pre>\n"
      ],
      "text/plain": [
       "\u001b[2;36m            \u001b[0m\u001b[2;36m \u001b[0m\u001b[31mWARNING: Mode field at frequency index \u001b[0m\u001b[1;36m25\u001b[0m\u001b[31m, mode index \u001b[0m\u001b[1;36m2\u001b[0m\u001b[31m does not   \u001b[0m\n",
       "\u001b[2;36m             \u001b[0m\u001b[31mdecay at the plane boundaries.                                     \u001b[0m\n"
      ]
     },
     "metadata": {},
     "output_type": "display_data"
    },
    {
     "data": {
      "text/html": [
       "<pre style=\"white-space:pre;overflow-x:auto;line-height:normal;font-family:Menlo,'DejaVu Sans Mono',consolas,'Courier New',monospace\"><span style=\"color: #7fbfbf; text-decoration-color: #7fbfbf\">             </span><span style=\"color: #800000; text-decoration-color: #800000\">WARNING: Mode field at frequency index </span><span style=\"color: #008080; text-decoration-color: #008080; font-weight: bold\">26</span><span style=\"color: #800000; text-decoration-color: #800000\">, mode index </span><span style=\"color: #008080; text-decoration-color: #008080; font-weight: bold\">2</span><span style=\"color: #800000; text-decoration-color: #800000\"> does not   </span>\n",
       "<span style=\"color: #7fbfbf; text-decoration-color: #7fbfbf\">             </span><span style=\"color: #800000; text-decoration-color: #800000\">decay at the plane boundaries.                                     </span>\n",
       "</pre>\n"
      ],
      "text/plain": [
       "\u001b[2;36m            \u001b[0m\u001b[2;36m \u001b[0m\u001b[31mWARNING: Mode field at frequency index \u001b[0m\u001b[1;36m26\u001b[0m\u001b[31m, mode index \u001b[0m\u001b[1;36m2\u001b[0m\u001b[31m does not   \u001b[0m\n",
       "\u001b[2;36m             \u001b[0m\u001b[31mdecay at the plane boundaries.                                     \u001b[0m\n"
      ]
     },
     "metadata": {},
     "output_type": "display_data"
    },
    {
     "data": {
      "text/html": [
       "<pre style=\"white-space:pre;overflow-x:auto;line-height:normal;font-family:Menlo,'DejaVu Sans Mono',consolas,'Courier New',monospace\"><span style=\"color: #7fbfbf; text-decoration-color: #7fbfbf\">             </span><span style=\"color: #800000; text-decoration-color: #800000\">WARNING: Mode field at frequency index </span><span style=\"color: #008080; text-decoration-color: #008080; font-weight: bold\">27</span><span style=\"color: #800000; text-decoration-color: #800000\">, mode index </span><span style=\"color: #008080; text-decoration-color: #008080; font-weight: bold\">1</span><span style=\"color: #800000; text-decoration-color: #800000\"> does not   </span>\n",
       "<span style=\"color: #7fbfbf; text-decoration-color: #7fbfbf\">             </span><span style=\"color: #800000; text-decoration-color: #800000\">decay at the plane boundaries.                                     </span>\n",
       "</pre>\n"
      ],
      "text/plain": [
       "\u001b[2;36m            \u001b[0m\u001b[2;36m \u001b[0m\u001b[31mWARNING: Mode field at frequency index \u001b[0m\u001b[1;36m27\u001b[0m\u001b[31m, mode index \u001b[0m\u001b[1;36m1\u001b[0m\u001b[31m does not   \u001b[0m\n",
       "\u001b[2;36m             \u001b[0m\u001b[31mdecay at the plane boundaries.                                     \u001b[0m\n"
      ]
     },
     "metadata": {},
     "output_type": "display_data"
    },
    {
     "data": {
      "text/html": [
       "<pre style=\"white-space:pre;overflow-x:auto;line-height:normal;font-family:Menlo,'DejaVu Sans Mono',consolas,'Courier New',monospace\"><span style=\"color: #7fbfbf; text-decoration-color: #7fbfbf\">             </span><span style=\"color: #800000; text-decoration-color: #800000\">WARNING: Mode field at frequency index </span><span style=\"color: #008080; text-decoration-color: #008080; font-weight: bold\">27</span><span style=\"color: #800000; text-decoration-color: #800000\">, mode index </span><span style=\"color: #008080; text-decoration-color: #008080; font-weight: bold\">2</span><span style=\"color: #800000; text-decoration-color: #800000\"> does not   </span>\n",
       "<span style=\"color: #7fbfbf; text-decoration-color: #7fbfbf\">             </span><span style=\"color: #800000; text-decoration-color: #800000\">decay at the plane boundaries.                                     </span>\n",
       "</pre>\n"
      ],
      "text/plain": [
       "\u001b[2;36m            \u001b[0m\u001b[2;36m \u001b[0m\u001b[31mWARNING: Mode field at frequency index \u001b[0m\u001b[1;36m27\u001b[0m\u001b[31m, mode index \u001b[0m\u001b[1;36m2\u001b[0m\u001b[31m does not   \u001b[0m\n",
       "\u001b[2;36m             \u001b[0m\u001b[31mdecay at the plane boundaries.                                     \u001b[0m\n"
      ]
     },
     "metadata": {},
     "output_type": "display_data"
    },
    {
     "data": {
      "text/html": [
       "<pre style=\"white-space:pre;overflow-x:auto;line-height:normal;font-family:Menlo,'DejaVu Sans Mono',consolas,'Courier New',monospace\"><span style=\"color: #7fbfbf; text-decoration-color: #7fbfbf\">             </span><span style=\"color: #800000; text-decoration-color: #800000\">WARNING: Mode field at frequency index </span><span style=\"color: #008080; text-decoration-color: #008080; font-weight: bold\">28</span><span style=\"color: #800000; text-decoration-color: #800000\">, mode index </span><span style=\"color: #008080; text-decoration-color: #008080; font-weight: bold\">2</span><span style=\"color: #800000; text-decoration-color: #800000\"> does not   </span>\n",
       "<span style=\"color: #7fbfbf; text-decoration-color: #7fbfbf\">             </span><span style=\"color: #800000; text-decoration-color: #800000\">decay at the plane boundaries.                                     </span>\n",
       "</pre>\n"
      ],
      "text/plain": [
       "\u001b[2;36m            \u001b[0m\u001b[2;36m \u001b[0m\u001b[31mWARNING: Mode field at frequency index \u001b[0m\u001b[1;36m28\u001b[0m\u001b[31m, mode index \u001b[0m\u001b[1;36m2\u001b[0m\u001b[31m does not   \u001b[0m\n",
       "\u001b[2;36m             \u001b[0m\u001b[31mdecay at the plane boundaries.                                     \u001b[0m\n"
      ]
     },
     "metadata": {},
     "output_type": "display_data"
    },
    {
     "data": {
      "text/html": [
       "<pre style=\"white-space:pre;overflow-x:auto;line-height:normal;font-family:Menlo,'DejaVu Sans Mono',consolas,'Courier New',monospace\"><span style=\"color: #7fbfbf; text-decoration-color: #7fbfbf\">             </span><span style=\"color: #800000; text-decoration-color: #800000\">WARNING: Mode field at frequency index </span><span style=\"color: #008080; text-decoration-color: #008080; font-weight: bold\">29</span><span style=\"color: #800000; text-decoration-color: #800000\">, mode index </span><span style=\"color: #008080; text-decoration-color: #008080; font-weight: bold\">2</span><span style=\"color: #800000; text-decoration-color: #800000\"> does not   </span>\n",
       "<span style=\"color: #7fbfbf; text-decoration-color: #7fbfbf\">             </span><span style=\"color: #800000; text-decoration-color: #800000\">decay at the plane boundaries.                                     </span>\n",
       "</pre>\n"
      ],
      "text/plain": [
       "\u001b[2;36m            \u001b[0m\u001b[2;36m \u001b[0m\u001b[31mWARNING: Mode field at frequency index \u001b[0m\u001b[1;36m29\u001b[0m\u001b[31m, mode index \u001b[0m\u001b[1;36m2\u001b[0m\u001b[31m does not   \u001b[0m\n",
       "\u001b[2;36m             \u001b[0m\u001b[31mdecay at the plane boundaries.                                     \u001b[0m\n"
      ]
     },
     "metadata": {},
     "output_type": "display_data"
    },
    {
     "data": {
      "text/html": [
       "<pre style=\"white-space:pre;overflow-x:auto;line-height:normal;font-family:Menlo,'DejaVu Sans Mono',consolas,'Courier New',monospace\"><span style=\"color: #7fbfbf; text-decoration-color: #7fbfbf\">             </span><span style=\"color: #800000; text-decoration-color: #800000\">WARNING: Mode field at frequency index </span><span style=\"color: #008080; text-decoration-color: #008080; font-weight: bold\">30</span><span style=\"color: #800000; text-decoration-color: #800000\">, mode index </span><span style=\"color: #008080; text-decoration-color: #008080; font-weight: bold\">1</span><span style=\"color: #800000; text-decoration-color: #800000\"> does not   </span>\n",
       "<span style=\"color: #7fbfbf; text-decoration-color: #7fbfbf\">             </span><span style=\"color: #800000; text-decoration-color: #800000\">decay at the plane boundaries.                                     </span>\n",
       "</pre>\n"
      ],
      "text/plain": [
       "\u001b[2;36m            \u001b[0m\u001b[2;36m \u001b[0m\u001b[31mWARNING: Mode field at frequency index \u001b[0m\u001b[1;36m30\u001b[0m\u001b[31m, mode index \u001b[0m\u001b[1;36m1\u001b[0m\u001b[31m does not   \u001b[0m\n",
       "\u001b[2;36m             \u001b[0m\u001b[31mdecay at the plane boundaries.                                     \u001b[0m\n"
      ]
     },
     "metadata": {},
     "output_type": "display_data"
    },
    {
     "data": {
      "text/html": [
       "<pre style=\"white-space:pre;overflow-x:auto;line-height:normal;font-family:Menlo,'DejaVu Sans Mono',consolas,'Courier New',monospace\"><span style=\"color: #7fbfbf; text-decoration-color: #7fbfbf\">             </span><span style=\"color: #800000; text-decoration-color: #800000\">WARNING: Mode field at frequency index </span><span style=\"color: #008080; text-decoration-color: #008080; font-weight: bold\">30</span><span style=\"color: #800000; text-decoration-color: #800000\">, mode index </span><span style=\"color: #008080; text-decoration-color: #008080; font-weight: bold\">2</span><span style=\"color: #800000; text-decoration-color: #800000\"> does not   </span>\n",
       "<span style=\"color: #7fbfbf; text-decoration-color: #7fbfbf\">             </span><span style=\"color: #800000; text-decoration-color: #800000\">decay at the plane boundaries.                                     </span>\n",
       "</pre>\n"
      ],
      "text/plain": [
       "\u001b[2;36m            \u001b[0m\u001b[2;36m \u001b[0m\u001b[31mWARNING: Mode field at frequency index \u001b[0m\u001b[1;36m30\u001b[0m\u001b[31m, mode index \u001b[0m\u001b[1;36m2\u001b[0m\u001b[31m does not   \u001b[0m\n",
       "\u001b[2;36m             \u001b[0m\u001b[31mdecay at the plane boundaries.                                     \u001b[0m\n"
      ]
     },
     "metadata": {},
     "output_type": "display_data"
    },
    {
     "data": {
      "text/html": [
       "<pre style=\"white-space:pre;overflow-x:auto;line-height:normal;font-family:Menlo,'DejaVu Sans Mono',consolas,'Courier New',monospace\"><span style=\"color: #7fbfbf; text-decoration-color: #7fbfbf\">             </span><span style=\"color: #800000; text-decoration-color: #800000\">WARNING: Mode field at frequency index </span><span style=\"color: #008080; text-decoration-color: #008080; font-weight: bold\">31</span><span style=\"color: #800000; text-decoration-color: #800000\">, mode index </span><span style=\"color: #008080; text-decoration-color: #008080; font-weight: bold\">1</span><span style=\"color: #800000; text-decoration-color: #800000\"> does not   </span>\n",
       "<span style=\"color: #7fbfbf; text-decoration-color: #7fbfbf\">             </span><span style=\"color: #800000; text-decoration-color: #800000\">decay at the plane boundaries.                                     </span>\n",
       "</pre>\n"
      ],
      "text/plain": [
       "\u001b[2;36m            \u001b[0m\u001b[2;36m \u001b[0m\u001b[31mWARNING: Mode field at frequency index \u001b[0m\u001b[1;36m31\u001b[0m\u001b[31m, mode index \u001b[0m\u001b[1;36m1\u001b[0m\u001b[31m does not   \u001b[0m\n",
       "\u001b[2;36m             \u001b[0m\u001b[31mdecay at the plane boundaries.                                     \u001b[0m\n"
      ]
     },
     "metadata": {},
     "output_type": "display_data"
    },
    {
     "data": {
      "text/html": [
       "<pre style=\"white-space:pre;overflow-x:auto;line-height:normal;font-family:Menlo,'DejaVu Sans Mono',consolas,'Courier New',monospace\"><span style=\"color: #7fbfbf; text-decoration-color: #7fbfbf\">             </span><span style=\"color: #800000; text-decoration-color: #800000\">WARNING: Mode field at frequency index </span><span style=\"color: #008080; text-decoration-color: #008080; font-weight: bold\">31</span><span style=\"color: #800000; text-decoration-color: #800000\">, mode index </span><span style=\"color: #008080; text-decoration-color: #008080; font-weight: bold\">2</span><span style=\"color: #800000; text-decoration-color: #800000\"> does not   </span>\n",
       "<span style=\"color: #7fbfbf; text-decoration-color: #7fbfbf\">             </span><span style=\"color: #800000; text-decoration-color: #800000\">decay at the plane boundaries.                                     </span>\n",
       "</pre>\n"
      ],
      "text/plain": [
       "\u001b[2;36m            \u001b[0m\u001b[2;36m \u001b[0m\u001b[31mWARNING: Mode field at frequency index \u001b[0m\u001b[1;36m31\u001b[0m\u001b[31m, mode index \u001b[0m\u001b[1;36m2\u001b[0m\u001b[31m does not   \u001b[0m\n",
       "\u001b[2;36m             \u001b[0m\u001b[31mdecay at the plane boundaries.                                     \u001b[0m\n"
      ]
     },
     "metadata": {},
     "output_type": "display_data"
    },
    {
     "data": {
      "text/html": [
       "<pre style=\"white-space:pre;overflow-x:auto;line-height:normal;font-family:Menlo,'DejaVu Sans Mono',consolas,'Courier New',monospace\"><span style=\"color: #7fbfbf; text-decoration-color: #7fbfbf\">             </span><span style=\"color: #800000; text-decoration-color: #800000\">WARNING: Mode field at frequency index </span><span style=\"color: #008080; text-decoration-color: #008080; font-weight: bold\">32</span><span style=\"color: #800000; text-decoration-color: #800000\">, mode index </span><span style=\"color: #008080; text-decoration-color: #008080; font-weight: bold\">1</span><span style=\"color: #800000; text-decoration-color: #800000\"> does not   </span>\n",
       "<span style=\"color: #7fbfbf; text-decoration-color: #7fbfbf\">             </span><span style=\"color: #800000; text-decoration-color: #800000\">decay at the plane boundaries.                                     </span>\n",
       "</pre>\n"
      ],
      "text/plain": [
       "\u001b[2;36m            \u001b[0m\u001b[2;36m \u001b[0m\u001b[31mWARNING: Mode field at frequency index \u001b[0m\u001b[1;36m32\u001b[0m\u001b[31m, mode index \u001b[0m\u001b[1;36m1\u001b[0m\u001b[31m does not   \u001b[0m\n",
       "\u001b[2;36m             \u001b[0m\u001b[31mdecay at the plane boundaries.                                     \u001b[0m\n"
      ]
     },
     "metadata": {},
     "output_type": "display_data"
    },
    {
     "data": {
      "text/html": [
       "<pre style=\"white-space:pre;overflow-x:auto;line-height:normal;font-family:Menlo,'DejaVu Sans Mono',consolas,'Courier New',monospace\"><span style=\"color: #7fbfbf; text-decoration-color: #7fbfbf\">             </span><span style=\"color: #800000; text-decoration-color: #800000\">WARNING: Mode field at frequency index </span><span style=\"color: #008080; text-decoration-color: #008080; font-weight: bold\">32</span><span style=\"color: #800000; text-decoration-color: #800000\">, mode index </span><span style=\"color: #008080; text-decoration-color: #008080; font-weight: bold\">2</span><span style=\"color: #800000; text-decoration-color: #800000\"> does not   </span>\n",
       "<span style=\"color: #7fbfbf; text-decoration-color: #7fbfbf\">             </span><span style=\"color: #800000; text-decoration-color: #800000\">decay at the plane boundaries.                                     </span>\n",
       "</pre>\n"
      ],
      "text/plain": [
       "\u001b[2;36m            \u001b[0m\u001b[2;36m \u001b[0m\u001b[31mWARNING: Mode field at frequency index \u001b[0m\u001b[1;36m32\u001b[0m\u001b[31m, mode index \u001b[0m\u001b[1;36m2\u001b[0m\u001b[31m does not   \u001b[0m\n",
       "\u001b[2;36m             \u001b[0m\u001b[31mdecay at the plane boundaries.                                     \u001b[0m\n"
      ]
     },
     "metadata": {},
     "output_type": "display_data"
    }
   ],
   "source": [
    "mode_solver = ModeSolver(\n",
    "    simulation=sim,\n",
    "    plane=plane,\n",
    "    mode_spec=mode_spec,\n",
    "    freqs=freqs,\n",
    ")\n",
    "mode_data = mode_solver.solve()"
   ]
  },
  {
   "cell_type": "code",
   "execution_count": 177,
   "metadata": {},
   "outputs": [
    {
     "data": {
      "text/html": [
       "<div>\n",
       "<style scoped>\n",
       "    .dataframe tbody tr th:only-of-type {\n",
       "        vertical-align: middle;\n",
       "    }\n",
       "\n",
       "    .dataframe tbody tr th {\n",
       "        vertical-align: top;\n",
       "    }\n",
       "\n",
       "    .dataframe thead th {\n",
       "        text-align: right;\n",
       "    }\n",
       "</style>\n",
       "<table border=\"1\" class=\"dataframe\">\n",
       "  <thead>\n",
       "    <tr style=\"text-align: right;\">\n",
       "      <th></th>\n",
       "      <th></th>\n",
       "      <th>wavelength</th>\n",
       "      <th>n eff</th>\n",
       "      <th>k eff</th>\n",
       "      <th>TE (Ex) fraction</th>\n",
       "      <th>wg TE fraction</th>\n",
       "      <th>wg TM fraction</th>\n",
       "      <th>mode area</th>\n",
       "      <th>group index</th>\n",
       "    </tr>\n",
       "    <tr>\n",
       "      <th>f</th>\n",
       "      <th>mode_index</th>\n",
       "      <th></th>\n",
       "      <th></th>\n",
       "      <th></th>\n",
       "      <th></th>\n",
       "      <th></th>\n",
       "      <th></th>\n",
       "      <th></th>\n",
       "      <th></th>\n",
       "    </tr>\n",
       "  </thead>\n",
       "  <tbody>\n",
       "    <tr>\n",
       "      <th rowspan=\"3\" valign=\"top\">1.998616e+14</th>\n",
       "      <th>0</th>\n",
       "      <td>1.50</td>\n",
       "      <td>2.376080</td>\n",
       "      <td>0.0</td>\n",
       "      <td>0.978715</td>\n",
       "      <td>0.743885</td>\n",
       "      <td>0.815289</td>\n",
       "      <td>0.182291</td>\n",
       "      <td>4.255891</td>\n",
       "    </tr>\n",
       "    <tr>\n",
       "      <th>1</th>\n",
       "      <td>1.50</td>\n",
       "      <td>1.739701</td>\n",
       "      <td>0.0</td>\n",
       "      <td>0.050582</td>\n",
       "      <td>0.719167</td>\n",
       "      <td>0.855221</td>\n",
       "      <td>0.304154</td>\n",
       "      <td>3.709778</td>\n",
       "    </tr>\n",
       "    <tr>\n",
       "      <th>2</th>\n",
       "      <td>1.50</td>\n",
       "      <td>1.477530</td>\n",
       "      <td>0.0</td>\n",
       "      <td>0.665604</td>\n",
       "      <td>0.894080</td>\n",
       "      <td>0.967793</td>\n",
       "      <td>0.508941</td>\n",
       "      <td>2.297987</td>\n",
       "    </tr>\n",
       "    <tr>\n",
       "      <th rowspan=\"3\" valign=\"top\">1.985381e+14</th>\n",
       "      <th>0</th>\n",
       "      <td>1.51</td>\n",
       "      <td>2.363531</td>\n",
       "      <td>0.0</td>\n",
       "      <td>0.978045</td>\n",
       "      <td>0.741824</td>\n",
       "      <td>0.814576</td>\n",
       "      <td>0.185452</td>\n",
       "      <td>4.260103</td>\n",
       "    </tr>\n",
       "    <tr>\n",
       "      <th>1</th>\n",
       "      <td>1.51</td>\n",
       "      <td>1.726734</td>\n",
       "      <td>0.0</td>\n",
       "      <td>0.050304</td>\n",
       "      <td>0.725783</td>\n",
       "      <td>0.852754</td>\n",
       "      <td>0.309560</td>\n",
       "      <td>3.659462</td>\n",
       "    </tr>\n",
       "    <tr>\n",
       "      <th>2</th>\n",
       "      <td>1.51</td>\n",
       "      <td>1.472138</td>\n",
       "      <td>0.0</td>\n",
       "      <td>0.661479</td>\n",
       "      <td>0.896192</td>\n",
       "      <td>0.969014</td>\n",
       "      <td>0.516169</td>\n",
       "      <td>2.275835</td>\n",
       "    </tr>\n",
       "    <tr>\n",
       "      <th rowspan=\"3\" valign=\"top\">1.972319e+14</th>\n",
       "      <th>0</th>\n",
       "      <td>1.52</td>\n",
       "      <td>2.350976</td>\n",
       "      <td>0.0</td>\n",
       "      <td>0.977362</td>\n",
       "      <td>0.739835</td>\n",
       "      <td>0.813865</td>\n",
       "      <td>0.188673</td>\n",
       "      <td>4.256989</td>\n",
       "    </tr>\n",
       "    <tr>\n",
       "      <th>1</th>\n",
       "      <td>1.52</td>\n",
       "      <td>1.714106</td>\n",
       "      <td>0.0</td>\n",
       "      <td>0.050003</td>\n",
       "      <td>0.732392</td>\n",
       "      <td>0.850239</td>\n",
       "      <td>0.315004</td>\n",
       "      <td>3.604539</td>\n",
       "    </tr>\n",
       "    <tr>\n",
       "      <th>2</th>\n",
       "      <td>1.52</td>\n",
       "      <td>1.466888</td>\n",
       "      <td>0.0</td>\n",
       "      <td>0.657521</td>\n",
       "      <td>0.898054</td>\n",
       "      <td>0.970173</td>\n",
       "      <td>0.523150</td>\n",
       "      <td>2.252489</td>\n",
       "    </tr>\n",
       "    <tr>\n",
       "      <th rowspan=\"3\" valign=\"top\">1.959428e+14</th>\n",
       "      <th>0</th>\n",
       "      <td>1.53</td>\n",
       "      <td>2.338423</td>\n",
       "      <td>0.0</td>\n",
       "      <td>0.976668</td>\n",
       "      <td>0.737923</td>\n",
       "      <td>0.813153</td>\n",
       "      <td>0.191955</td>\n",
       "      <td>4.259028</td>\n",
       "    </tr>\n",
       "    <tr>\n",
       "      <th>1</th>\n",
       "      <td>1.53</td>\n",
       "      <td>1.701830</td>\n",
       "      <td>0.0</td>\n",
       "      <td>0.049679</td>\n",
       "      <td>0.738995</td>\n",
       "      <td>0.847674</td>\n",
       "      <td>0.320486</td>\n",
       "      <td>3.554891</td>\n",
       "    </tr>\n",
       "    <tr>\n",
       "      <th>2</th>\n",
       "      <td>1.53</td>\n",
       "      <td>1.461789</td>\n",
       "      <td>0.0</td>\n",
       "      <td>0.653692</td>\n",
       "      <td>0.899686</td>\n",
       "      <td>0.971279</td>\n",
       "      <td>0.529924</td>\n",
       "      <td>2.232977</td>\n",
       "    </tr>\n",
       "    <tr>\n",
       "      <th rowspan=\"3\" valign=\"top\">1.946704e+14</th>\n",
       "      <th>0</th>\n",
       "      <td>1.54</td>\n",
       "      <td>2.325870</td>\n",
       "      <td>0.0</td>\n",
       "      <td>0.975963</td>\n",
       "      <td>0.736087</td>\n",
       "      <td>0.812443</td>\n",
       "      <td>0.195297</td>\n",
       "      <td>4.260422</td>\n",
       "    </tr>\n",
       "    <tr>\n",
       "      <th>1</th>\n",
       "      <td>1.54</td>\n",
       "      <td>1.689886</td>\n",
       "      <td>0.0</td>\n",
       "      <td>0.049336</td>\n",
       "      <td>0.745567</td>\n",
       "      <td>0.845058</td>\n",
       "      <td>0.325988</td>\n",
       "      <td>3.505777</td>\n",
       "    </tr>\n",
       "    <tr>\n",
       "      <th>2</th>\n",
       "      <td>1.54</td>\n",
       "      <td>1.456803</td>\n",
       "      <td>0.0</td>\n",
       "      <td>0.649980</td>\n",
       "      <td>0.901101</td>\n",
       "      <td>0.972336</td>\n",
       "      <td>0.536492</td>\n",
       "      <td>2.215332</td>\n",
       "    </tr>\n",
       "    <tr>\n",
       "      <th rowspan=\"3\" valign=\"top\">1.934145e+14</th>\n",
       "      <th>0</th>\n",
       "      <td>1.55</td>\n",
       "      <td>2.313321</td>\n",
       "      <td>0.0</td>\n",
       "      <td>0.975246</td>\n",
       "      <td>0.734336</td>\n",
       "      <td>0.811731</td>\n",
       "      <td>0.198699</td>\n",
       "      <td>4.261177</td>\n",
       "    </tr>\n",
       "    <tr>\n",
       "      <th>1</th>\n",
       "      <td>1.55</td>\n",
       "      <td>1.678265</td>\n",
       "      <td>0.0</td>\n",
       "      <td>0.048978</td>\n",
       "      <td>0.752086</td>\n",
       "      <td>0.842398</td>\n",
       "      <td>0.331500</td>\n",
       "      <td>3.457094</td>\n",
       "    </tr>\n",
       "    <tr>\n",
       "      <th>2</th>\n",
       "      <td>1.55</td>\n",
       "      <td>1.451940</td>\n",
       "      <td>0.0</td>\n",
       "      <td>0.646431</td>\n",
       "      <td>0.902319</td>\n",
       "      <td>0.973336</td>\n",
       "      <td>0.542830</td>\n",
       "      <td>2.198548</td>\n",
       "    </tr>\n",
       "    <tr>\n",
       "      <th rowspan=\"3\" valign=\"top\">1.921747e+14</th>\n",
       "      <th>0</th>\n",
       "      <td>1.56</td>\n",
       "      <td>2.300743</td>\n",
       "      <td>0.0</td>\n",
       "      <td>0.974517</td>\n",
       "      <td>0.732668</td>\n",
       "      <td>0.811022</td>\n",
       "      <td>0.202167</td>\n",
       "      <td>4.262189</td>\n",
       "    </tr>\n",
       "    <tr>\n",
       "      <th>1</th>\n",
       "      <td>1.56</td>\n",
       "      <td>1.666946</td>\n",
       "      <td>0.0</td>\n",
       "      <td>0.048604</td>\n",
       "      <td>0.758562</td>\n",
       "      <td>0.839689</td>\n",
       "      <td>0.337024</td>\n",
       "      <td>3.408308</td>\n",
       "    </tr>\n",
       "    <tr>\n",
       "      <th>2</th>\n",
       "      <td>1.56</td>\n",
       "      <td>1.447182</td>\n",
       "      <td>0.0</td>\n",
       "      <td>0.642986</td>\n",
       "      <td>0.903357</td>\n",
       "      <td>0.974294</td>\n",
       "      <td>0.548986</td>\n",
       "      <td>2.182418</td>\n",
       "    </tr>\n",
       "    <tr>\n",
       "      <th rowspan=\"3\" valign=\"top\">1.909506e+14</th>\n",
       "      <th>0</th>\n",
       "      <td>1.57</td>\n",
       "      <td>2.288208</td>\n",
       "      <td>0.0</td>\n",
       "      <td>0.973780</td>\n",
       "      <td>0.731090</td>\n",
       "      <td>0.810304</td>\n",
       "      <td>0.205689</td>\n",
       "      <td>4.263482</td>\n",
       "    </tr>\n",
       "    <tr>\n",
       "      <th>1</th>\n",
       "      <td>1.57</td>\n",
       "      <td>1.655958</td>\n",
       "      <td>0.0</td>\n",
       "      <td>0.048220</td>\n",
       "      <td>0.764947</td>\n",
       "      <td>0.836935</td>\n",
       "      <td>0.342526</td>\n",
       "      <td>3.363059</td>\n",
       "    </tr>\n",
       "    <tr>\n",
       "      <th>2</th>\n",
       "      <td>1.57</td>\n",
       "      <td>1.442531</td>\n",
       "      <td>0.0</td>\n",
       "      <td>0.639674</td>\n",
       "      <td>0.904218</td>\n",
       "      <td>0.975202</td>\n",
       "      <td>0.554932</td>\n",
       "      <td>2.168647</td>\n",
       "    </tr>\n",
       "    <tr>\n",
       "      <th rowspan=\"3\" valign=\"top\">1.897421e+14</th>\n",
       "      <th>0</th>\n",
       "      <td>1.58</td>\n",
       "      <td>2.275654</td>\n",
       "      <td>0.0</td>\n",
       "      <td>0.973033</td>\n",
       "      <td>0.729602</td>\n",
       "      <td>0.809587</td>\n",
       "      <td>0.209275</td>\n",
       "      <td>4.262778</td>\n",
       "    </tr>\n",
       "    <tr>\n",
       "      <th>1</th>\n",
       "      <td>1.58</td>\n",
       "      <td>1.645252</td>\n",
       "      <td>0.0</td>\n",
       "      <td>0.047826</td>\n",
       "      <td>0.771263</td>\n",
       "      <td>0.834135</td>\n",
       "      <td>0.348019</td>\n",
       "      <td>3.316923</td>\n",
       "    </tr>\n",
       "    <tr>\n",
       "      <th>2</th>\n",
       "      <td>1.58</td>\n",
       "      <td>1.437961</td>\n",
       "      <td>0.0</td>\n",
       "      <td>0.636447</td>\n",
       "      <td>0.904919</td>\n",
       "      <td>0.976073</td>\n",
       "      <td>0.560711</td>\n",
       "      <td>2.154885</td>\n",
       "    </tr>\n",
       "    <tr>\n",
       "      <th rowspan=\"3\" valign=\"top\">1.885487e+14</th>\n",
       "      <th>0</th>\n",
       "      <td>1.59</td>\n",
       "      <td>2.263041</td>\n",
       "      <td>0.0</td>\n",
       "      <td>0.972273</td>\n",
       "      <td>0.728206</td>\n",
       "      <td>0.808874</td>\n",
       "      <td>0.212930</td>\n",
       "      <td>4.262372</td>\n",
       "    </tr>\n",
       "    <tr>\n",
       "      <th>1</th>\n",
       "      <td>1.59</td>\n",
       "      <td>1.634780</td>\n",
       "      <td>0.0</td>\n",
       "      <td>0.047424</td>\n",
       "      <td>0.777486</td>\n",
       "      <td>0.831298</td>\n",
       "      <td>0.353489</td>\n",
       "      <td>3.272692</td>\n",
       "    </tr>\n",
       "    <tr>\n",
       "      <th>2</th>\n",
       "      <td>1.59</td>\n",
       "      <td>1.433447</td>\n",
       "      <td>0.0</td>\n",
       "      <td>0.633364</td>\n",
       "      <td>0.905476</td>\n",
       "      <td>0.976899</td>\n",
       "      <td>0.566294</td>\n",
       "      <td>2.141669</td>\n",
       "    </tr>\n",
       "    <tr>\n",
       "      <th rowspan=\"3\" valign=\"top\">1.873703e+14</th>\n",
       "      <th>0</th>\n",
       "      <td>1.60</td>\n",
       "      <td>2.250495</td>\n",
       "      <td>0.0</td>\n",
       "      <td>0.971507</td>\n",
       "      <td>0.726910</td>\n",
       "      <td>0.808146</td>\n",
       "      <td>0.216635</td>\n",
       "      <td>4.260006</td>\n",
       "    </tr>\n",
       "    <tr>\n",
       "      <th>1</th>\n",
       "      <td>1.60</td>\n",
       "      <td>1.624640</td>\n",
       "      <td>0.0</td>\n",
       "      <td>0.047016</td>\n",
       "      <td>0.783600</td>\n",
       "      <td>0.828413</td>\n",
       "      <td>0.358911</td>\n",
       "      <td>3.229602</td>\n",
       "    </tr>\n",
       "    <tr>\n",
       "      <th>2</th>\n",
       "      <td>1.60</td>\n",
       "      <td>1.429035</td>\n",
       "      <td>0.0</td>\n",
       "      <td>0.630347</td>\n",
       "      <td>0.905889</td>\n",
       "      <td>0.977691</td>\n",
       "      <td>0.571720</td>\n",
       "      <td>2.131428</td>\n",
       "    </tr>\n",
       "  </tbody>\n",
       "</table>\n",
       "</div>"
      ],
      "text/plain": [
       "                         wavelength     n eff  k eff  TE (Ex) fraction  \\\n",
       "f            mode_index                                                  \n",
       "1.998616e+14 0                 1.50  2.376080    0.0          0.978715   \n",
       "             1                 1.50  1.739701    0.0          0.050582   \n",
       "             2                 1.50  1.477530    0.0          0.665604   \n",
       "1.985381e+14 0                 1.51  2.363531    0.0          0.978045   \n",
       "             1                 1.51  1.726734    0.0          0.050304   \n",
       "             2                 1.51  1.472138    0.0          0.661479   \n",
       "1.972319e+14 0                 1.52  2.350976    0.0          0.977362   \n",
       "             1                 1.52  1.714106    0.0          0.050003   \n",
       "             2                 1.52  1.466888    0.0          0.657521   \n",
       "1.959428e+14 0                 1.53  2.338423    0.0          0.976668   \n",
       "             1                 1.53  1.701830    0.0          0.049679   \n",
       "             2                 1.53  1.461789    0.0          0.653692   \n",
       "1.946704e+14 0                 1.54  2.325870    0.0          0.975963   \n",
       "             1                 1.54  1.689886    0.0          0.049336   \n",
       "             2                 1.54  1.456803    0.0          0.649980   \n",
       "1.934145e+14 0                 1.55  2.313321    0.0          0.975246   \n",
       "             1                 1.55  1.678265    0.0          0.048978   \n",
       "             2                 1.55  1.451940    0.0          0.646431   \n",
       "1.921747e+14 0                 1.56  2.300743    0.0          0.974517   \n",
       "             1                 1.56  1.666946    0.0          0.048604   \n",
       "             2                 1.56  1.447182    0.0          0.642986   \n",
       "1.909506e+14 0                 1.57  2.288208    0.0          0.973780   \n",
       "             1                 1.57  1.655958    0.0          0.048220   \n",
       "             2                 1.57  1.442531    0.0          0.639674   \n",
       "1.897421e+14 0                 1.58  2.275654    0.0          0.973033   \n",
       "             1                 1.58  1.645252    0.0          0.047826   \n",
       "             2                 1.58  1.437961    0.0          0.636447   \n",
       "1.885487e+14 0                 1.59  2.263041    0.0          0.972273   \n",
       "             1                 1.59  1.634780    0.0          0.047424   \n",
       "             2                 1.59  1.433447    0.0          0.633364   \n",
       "1.873703e+14 0                 1.60  2.250495    0.0          0.971507   \n",
       "             1                 1.60  1.624640    0.0          0.047016   \n",
       "             2                 1.60  1.429035    0.0          0.630347   \n",
       "\n",
       "                         wg TE fraction  wg TM fraction  mode area  \\\n",
       "f            mode_index                                              \n",
       "1.998616e+14 0                 0.743885        0.815289   0.182291   \n",
       "             1                 0.719167        0.855221   0.304154   \n",
       "             2                 0.894080        0.967793   0.508941   \n",
       "1.985381e+14 0                 0.741824        0.814576   0.185452   \n",
       "             1                 0.725783        0.852754   0.309560   \n",
       "             2                 0.896192        0.969014   0.516169   \n",
       "1.972319e+14 0                 0.739835        0.813865   0.188673   \n",
       "             1                 0.732392        0.850239   0.315004   \n",
       "             2                 0.898054        0.970173   0.523150   \n",
       "1.959428e+14 0                 0.737923        0.813153   0.191955   \n",
       "             1                 0.738995        0.847674   0.320486   \n",
       "             2                 0.899686        0.971279   0.529924   \n",
       "1.946704e+14 0                 0.736087        0.812443   0.195297   \n",
       "             1                 0.745567        0.845058   0.325988   \n",
       "             2                 0.901101        0.972336   0.536492   \n",
       "1.934145e+14 0                 0.734336        0.811731   0.198699   \n",
       "             1                 0.752086        0.842398   0.331500   \n",
       "             2                 0.902319        0.973336   0.542830   \n",
       "1.921747e+14 0                 0.732668        0.811022   0.202167   \n",
       "             1                 0.758562        0.839689   0.337024   \n",
       "             2                 0.903357        0.974294   0.548986   \n",
       "1.909506e+14 0                 0.731090        0.810304   0.205689   \n",
       "             1                 0.764947        0.836935   0.342526   \n",
       "             2                 0.904218        0.975202   0.554932   \n",
       "1.897421e+14 0                 0.729602        0.809587   0.209275   \n",
       "             1                 0.771263        0.834135   0.348019   \n",
       "             2                 0.904919        0.976073   0.560711   \n",
       "1.885487e+14 0                 0.728206        0.808874   0.212930   \n",
       "             1                 0.777486        0.831298   0.353489   \n",
       "             2                 0.905476        0.976899   0.566294   \n",
       "1.873703e+14 0                 0.726910        0.808146   0.216635   \n",
       "             1                 0.783600        0.828413   0.358911   \n",
       "             2                 0.905889        0.977691   0.571720   \n",
       "\n",
       "                         group index  \n",
       "f            mode_index               \n",
       "1.998616e+14 0              4.255891  \n",
       "             1              3.709778  \n",
       "             2              2.297987  \n",
       "1.985381e+14 0              4.260103  \n",
       "             1              3.659462  \n",
       "             2              2.275835  \n",
       "1.972319e+14 0              4.256989  \n",
       "             1              3.604539  \n",
       "             2              2.252489  \n",
       "1.959428e+14 0              4.259028  \n",
       "             1              3.554891  \n",
       "             2              2.232977  \n",
       "1.946704e+14 0              4.260422  \n",
       "             1              3.505777  \n",
       "             2              2.215332  \n",
       "1.934145e+14 0              4.261177  \n",
       "             1              3.457094  \n",
       "             2              2.198548  \n",
       "1.921747e+14 0              4.262189  \n",
       "             1              3.408308  \n",
       "             2              2.182418  \n",
       "1.909506e+14 0              4.263482  \n",
       "             1              3.363059  \n",
       "             2              2.168647  \n",
       "1.897421e+14 0              4.262778  \n",
       "             1              3.316923  \n",
       "             2              2.154885  \n",
       "1.885487e+14 0              4.262372  \n",
       "             1              3.272692  \n",
       "             2              2.141669  \n",
       "1.873703e+14 0              4.260006  \n",
       "             1              3.229602  \n",
       "             2              2.131428  "
      ]
     },
     "execution_count": 177,
     "metadata": {},
     "output_type": "execute_result"
    }
   ],
   "source": [
    "mode_data.to_dataframe()"
   ]
  },
  {
   "cell_type": "code",
   "execution_count": 178,
   "metadata": {},
   "outputs": [
    {
     "data": {
      "image/png": "[encoded data removed]",
      "text/plain": [
       "<Figure size 640x480 with 1 Axes>"
      ]
     },
     "metadata": {},
     "output_type": "display_data"
    }
   ],
   "source": [
    "fig, ax = plt.subplots(1)\n",
    "n_eff = mode_data.n_eff  # real part of the effective mode index\n",
    "n_eff.plot.line(x='f')\n",
    "plt.grid()\n",
    "plt.show()"
   ]
  },
  {
   "cell_type": "code",
   "execution_count": 179,
   "metadata": {},
   "outputs": [
    {
     "name": "stdout",
     "output_type": "stream",
     "text": [
      "Effective indices: [2.3133214 1.6782646 1.4519402]\n",
      "Effective mode areas (µm²): [0.19869896 0.33150017 0.54282965]\n",
      "Group index: [4.261177  3.4570937 2.1985478]\n"
     ]
    }
   ],
   "source": [
    "# Mode data\n",
    "print(f\"Effective indices: {mode_data.n_eff.values[f0_ind]}\")\n",
    "print(f\"Effective mode areas (µm²): {mode_data.mode_area.values[f0_ind]}\")\n",
    "print(f\"Group index: {mode_data.n_group.values[f0_ind]}\")"
   ]
  },
  {
   "cell_type": "code",
   "execution_count": 180,
   "metadata": {},
   "outputs": [
    {
     "data": {
      "image/png": "[encoded data removed]",
      "text/plain": [
       "<Figure size 900x400 with 4 Axes>"
      ]
     },
     "metadata": {},
     "output_type": "display_data"
    }
   ],
   "source": [
    "mode_index = 0\n",
    "f, (ax1, ax2) = plt.subplots(1, 2, tight_layout=True, figsize=(9, 4))\n",
    "mode_solver.plot_field(\"Ex\", \"abs\", mode_index=mode_index, f=freq0, ax=ax1, robust=False)\n",
    "mode_solver.plot_field(\"Ez\", \"abs\", mode_index=mode_index, f=freq0, ax=ax2, robust=False)\n",
    "\n",
    "ax1.set_title(r\"|E$_x$(x, y)|- %0.2f um\" %(C_0/freq0))\n",
    "ax1.set_xlim([-0.5,0.5])\n",
    "ax1.set_ylim([-0.5,0.5])\n",
    "ax1.set_aspect(\"equal\")\n",
    "ax2.set_title(r\"|E$_z$(x, y)|- %0.2f um\" %(C_0/freq0))\n",
    "ax2.set_xlim([-0.5,0.5])\n",
    "ax2.set_ylim([-0.5,0.5])\n",
    "ax2.set_aspect(\"equal\")\n",
    "plt.show()"
   ]
  },
  {
   "cell_type": "markdown",
   "metadata": {},
   "source": [
    "## Using waveguide plugin"
   ]
  },
  {
   "cell_type": "code",
   "execution_count": 181,
   "metadata": {},
   "outputs": [],
   "source": [
    "from tidy3d.plugins import waveguide"
   ]
  },
  {
   "cell_type": "code",
   "execution_count": 182,
   "metadata": {},
   "outputs": [
    {
     "data": {
      "image/png": "[encoded data removed]",
      "text/plain": [
       "<Figure size 640x480 with 1 Axes>"
      ]
     },
     "metadata": {},
     "output_type": "display_data"
    }
   ],
   "source": [
    "strip = waveguide.RectangularDielectric(\n",
    "    wavelength=wvl_um,\n",
    "    core_width=wg_width,\n",
    "    core_thickness=wg_height,\n",
    "    core_medium=si,\n",
    "    clad_medium=sio2,\n",
    "    box_medium=sio2,\n",
    "    origin=(0,0,-wg_height/2),\n",
    "    mode_spec=td.ModeSpec(num_modes=2, group_index_step=True),\n",
    ")\n",
    "\n",
    "# Take a look at the waveguide cross-section\n",
    "_ = strip.plot_structures(x=0)\n",
    "plt.grid()"
   ]
  },
  {
   "cell_type": "code",
   "execution_count": 183,
   "metadata": {},
   "outputs": [
    {
     "data": {
      "image/png": "[encoded data removed]",
      "text/plain": [
       "<Figure size 900x400 with 4 Axes>"
      ]
     },
     "metadata": {},
     "output_type": "display_data"
    }
   ],
   "source": [
    "mode_index = 0\n",
    "f, (ax1, ax2) = plt.subplots(1, 2, tight_layout=True, figsize=(9, 4))\n",
    "strip.plot_field(\"Ey\",val='abs',mode_index=mode_index,ax=ax1,robust=False)\n",
    "strip.plot_field(\"Ez\",val='abs',mode_index=mode_index,ax=ax2,robust=False)\n",
    "\n",
    "ax1.set_title(r\"|E$_x$(x, y)|- %0.2f um\" %(C_0/freq0))\n",
    "ax1.set_xlim([-0.5,0.5])\n",
    "ax1.set_ylim([-0.5,0.5])\n",
    "ax1.set_aspect(\"equal\")\n",
    "ax2.set_title(r\"|E$_z$(x, y)|- %0.2f um\" %(C_0/freq0))\n",
    "ax2.set_xlim([-0.5,0.5])\n",
    "ax2.set_ylim([-0.5,0.5])\n",
    "ax2.set_aspect(\"equal\")\n",
    "plt.show()"
   ]
  },
  {
   "cell_type": "code",
   "execution_count": 184,
   "metadata": {},
   "outputs": [
    {
     "name": "stdout",
     "output_type": "stream",
     "text": [
      "Effective indices: [[2.3597722 1.739034 ]]\n",
      "Effective mode areas (µm²): [[0.19679208 0.35585869]]\n",
      "Group index: [[4.287124  3.6391706]]\n"
     ]
    }
   ],
   "source": [
    "# Mode data\n",
    "print(f\"Effective indices: {strip.n_eff.values}\")\n",
    "print(f\"Effective mode areas (µm²): {strip.mode_area.values}\")\n",
    "print(f\"Group index: {strip.n_group.values}\")"
   ]
  }
 ],
 "metadata": {
  "kernelspec": {
   "display_name": "Python 3.11.7 ('gdsfactory')",
   "language": "python",
   "name": "python3"
  },
  "language_info": {
   "codemirror_mode": {
    "name": "ipython",
    "version": 3
   },
   "file_extension": ".py",
   "mimetype": "text/x-python",
   "name": "python",
   "nbconvert_exporter": "python",
   "pygments_lexer": "ipython3",
   "version": "3.11.7"
  },
  "orig_nbformat": 4,
  "vscode": {
   "interpreter": {
    "hash": "7a5ed472f18240e6ef477618f420aa7c7dd5b2cf0a2472460b05876a920bab68"
   }
  }
 },
 "nbformat": 4,
 "nbformat_minor": 2
}
