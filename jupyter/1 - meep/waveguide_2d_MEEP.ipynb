{
 "cells": [
  {
   "cell_type": "code",
   "execution_count": 2,
   "metadata": {},
   "outputs": [
    {
     "name": "stdout",
     "output_type": "stream",
     "text": [
      "Using MPI version 4.0, 1 processes\n"
     ]
    }
   ],
   "source": [
    "# waveguide 2D example\n",
    "import meep as mp\n",
    "from meep.materials import Si, SiO2"
   ]
  },
  {
   "cell_type": "markdown",
   "metadata": {},
   "source": [
    "O primeiro exemplo é o estudo da propagação do campo eletromagnético em um guia óptico de silício (Si = 3,54) de largura de 450 nm. Para tanto, vamos considerar um guia de comprimento de 5 um. A região de simulação será de 5 um em $x$ e 2 um em $y$. Iremos considerar, inicialmente, um simulação 2D. Importante definirmos os parâmetros de simulação:"
   ]
  },
  {
   "cell_type": "code",
   "execution_count": null,
   "metadata": {},
   "outputs": [],
   "source": [
    "sx = 5  # tamanho da célula na direção X\n",
    "sy = 3  # tamanho da célula na direção Y\n",
    "sz = 2  # tamanho da célula na direção Z - indiferente, pois é uma simulação 2D.\n",
    "\n",
    "pad = 0    # distância entre o componente (guia de onda) e a região de simulação.\n",
    "w   = 0.45 # Si width (um)\n",
    "h   = 0.25 # Si height (um) - indiferente, pois é uma simulação 2D.\n",
    "l   = 5    # Si length (um)\n",
    "\n",
    "wvg_xcen = 0.5*(sx-l-2*pad)  # centro do guia de onda - x\n",
    "wvg_ycen = 0  # centro do guia de onda - y\n",
    "wvg_zcen = 0  # centro do guia de onda - z - indiferente, pois é uma simulação 2D."
   ]
  },
  {
   "cell_type": "markdown",
   "metadata": {},
   "source": [
    "Precisamos definir a frequência do pulso. A unidade de comprimento neste exemplo é 1 um. A frequência da fonte contínua (ContinuousSource) é 0.645 e, portanto, no vácuo, o comprimento de onda é 1/0.645 = 1.55 um e aproximadamente 0.5 um (0.438 um) no material (Si=3,54). Vamos considerar 100 pontos ao longo da banda de simulação."
   ]
  },
  {
   "cell_type": "code",
   "execution_count": null,
   "metadata": {},
   "outputs": [],
   "source": [
    "fcen = 1/0.645\n",
    "df = 0.1     \n",
    "nfreq = 100"
   ]
  },
  {
   "cell_type": "markdown",
   "metadata": {},
   "source": [
    "Meep discretiza a estrutura no espaço e tempo, especificada pela variável $resolution$, que descreve o número de pixels por unidade de comprimento. Considerando inicialmente uma resolução de 20 pixels/um, ou 31 pixels/comprimento de onda (1.55 um x 20 pixels/um) ou cerca de 9 pixels/um (8.76 pixels/comprimento de onda) no material. Teremos uma 100x60 células ((sx,sy)*resolution). Para condições de fronteira, utilizaremos fronteiras absorventes ao redor da célula, do tipo PML (*perfectly matched layers*). Definimos uma largura de 1 um para essas fronteiras."
   ]
  },
  {
   "cell_type": "code",
   "execution_count": null,
   "metadata": {},
   "outputs": [],
   "source": [
    "resolution = 20\n",
    "dpml = 1.0"
   ]
  },
  {
   "cell_type": "markdown",
   "metadata": {},
   "source": [
    "Podemos criar a região de simulação a partir do comando"
   ]
  },
  {
   "cell_type": "markdown",
   "metadata": {},
   "source": [
    "<img src=\"imagens\\meep_cell.png\" alt=\"Alternative text\" />"
   ]
  },
  {
   "cell_type": "code",
   "execution_count": null,
   "metadata": {},
   "outputs": [],
   "source": [
    "cell = mp.Vector3(sx, sy, sz)"
   ]
  },
  {
   "cell_type": "markdown",
   "metadata": {},
   "source": [
    "O dispositivo que desejamos simular é um guia de onda em Si, cujo objeto é criado pelo seguinte comando"
   ]
  },
  {
   "cell_type": "code",
   "execution_count": null,
   "metadata": {},
   "outputs": [],
   "source": [
    "geometry = [mp.Block(size=mp.Vector3(l,w,h),\n",
    "                     center=mp.Vector3(wvg_xcen,wvg_ycen,wvg_zcen),\n",
    "                     material=mp.Medium(index=3.54))]"
   ]
  }
 ],
 "metadata": {
  "kernelspec": {
   "display_name": "Python 3.9.16 ('base')",
   "language": "python",
   "name": "python3"
  },
  "language_info": {
   "codemirror_mode": {
    "name": "ipython",
    "version": 3
   },
   "file_extension": ".py",
   "mimetype": "text/x-python",
   "name": "python",
   "nbconvert_exporter": "python",
   "pygments_lexer": "ipython3",
   "version": "3.9.16"
  },
  "orig_nbformat": 4,
  "vscode": {
   "interpreter": {
    "hash": "c6ec71f727476f5c0adaee0edc26f700116a1de424bd77268122e8bd4f210291"
   }
  }
 },
 "nbformat": 4,
 "nbformat_minor": 2
}
